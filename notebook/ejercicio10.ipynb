{
 "cells": [
  {
   "cell_type": "code",
   "execution_count": null,
   "metadata": {},
   "outputs": [],
   "source": [
    "import sys\n",
    "import os   \n",
    "\n",
    "# Obtener la ruta absoluta del directorio raiz del proyecto\n",
    "sys.path.append(os.path.abspath(\"..\"))"
   ]
  },
  {
   "cell_type": "code",
   "execution_count": 1,
   "metadata": {},
   "outputs": [
    {
     "ename": "ModuleNotFoundError",
     "evalue": "No module named 'src'",
     "output_type": "error",
     "traceback": [
      "\u001b[31m---------------------------------------------------------------------------\u001b[39m",
      "\u001b[31mModuleNotFoundError\u001b[39m                       Traceback (most recent call last)",
      "\u001b[36mCell\u001b[39m\u001b[36m \u001b[39m\u001b[32mIn[1]\u001b[39m\u001b[32m, line 1\u001b[39m\n\u001b[32m----> \u001b[39m\u001b[32m1\u001b[39m \u001b[38;5;28;01mfrom\u001b[39;00m\u001b[38;5;250m \u001b[39m\u001b[34;01msrc\u001b[39;00m\u001b[38;5;250m \u001b[39m\u001b[38;5;28;01mimport\u001b[39;00m diccionario\n\u001b[32m      2\u001b[39m \u001b[38;5;66;03m# Definir las rondas de juego\u001b[39;00m\n\u001b[32m      3\u001b[39m rondas = [\n\u001b[32m      4\u001b[39m     {\n\u001b[32m      5\u001b[39m         \u001b[33m'\u001b[39m\u001b[33mShadow\u001b[39m\u001b[33m'\u001b[39m: {\u001b[33m'\u001b[39m\u001b[33mkills\u001b[39m\u001b[33m'\u001b[39m: \u001b[32m2\u001b[39m, \u001b[33m'\u001b[39m\u001b[33massists\u001b[39m\u001b[33m'\u001b[39m: \u001b[32m1\u001b[39m, \u001b[33m'\u001b[39m\u001b[33mdeaths\u001b[39m\u001b[33m'\u001b[39m: \u001b[38;5;28;01mTrue\u001b[39;00m},\n\u001b[32m   (...)\u001b[39m\u001b[32m     38\u001b[39m     }\n\u001b[32m     39\u001b[39m ]\n",
      "\u001b[31mModuleNotFoundError\u001b[39m: No module named 'src'"
     ]
    }
   ],
   "source": [
    "from src import diccionario\n",
    "# Definir las rondas de juego\n",
    "rondas = [\n",
    "    {\n",
    "        'Shadow': {'kills': 2, 'assists': 1, 'deaths': True},\n",
    "        'Blaze': {'kills': 1, 'assists': 0, 'deaths': False},\n",
    "        'Viper': {'kills': 1, 'assists': 2, 'deaths': True},\n",
    "        'Frost': {'kills': 0, 'assists': 1, 'deaths': False},\n",
    "        'Reaper': {'kills': 1, 'assists': 1, 'deaths': False}\n",
    "    },\n",
    "    {\n",
    "        'Shadow': {'kills': 0, 'assists': 2, 'deaths': False},\n",
    "        'Blaze': {'kills': 2, 'assists': 0, 'deaths': True},\n",
    "        'Viper': {'kills': 1, 'assists': 1, 'deaths': False},\n",
    "        'Frost': {'kills': 2, 'assists': 1, 'deaths': True},\n",
    "        'Reaper': {'kills': 0, 'assists': 1, 'deaths': False}\n",
    "    },\n",
    "    {\n",
    "        'Shadow': {'kills': 1, 'assists': 0, 'deaths': False},\n",
    "        'Blaze': {'kills': 2, 'assists': 2, 'deaths': True},\n",
    "        'Viper': {'kills': 1, 'assists': 1, 'deaths': True},\n",
    "        'Frost': {'kills': 0, 'assists': 1, 'deaths': False},\n",
    "        'Reaper': {'kills': 1, 'assists': 1, 'deaths': False}\n",
    "    },\n",
    "    {\n",
    "        'Shadow': {'kills': 2, 'assists': 1, 'deaths': False},\n",
    "        'Blaze': {'kills': 1, 'assists': 0, 'deaths': True},\n",
    "        'Viper': {'kills': 0, 'assists': 2, 'deaths': False},\n",
    "        'Frost': {'kills': 1, 'assists': 1, 'deaths': True},\n",
    "        'Reaper': {'kills': 1, 'assists': 1, 'deaths': False}\n",
    "    },\n",
    "    {\n",
    "        'Shadow': {'kills': 1, 'assists': 2, 'deaths': True},\n",
    "        'Blaze': {'kills': 0, 'assists': 1, 'deaths': False},\n",
    "        'Viper': {'kills': 2, 'assists': 0, 'deaths': True},\n",
    "        'Frost': {'kills': 1, 'assists': 1, 'deaths': False},\n",
    "        'Reaper': {'kills': 1, 'assists': 1, 'deaths': True}\n",
    "    }\n",
    "]\n",
    "\n",
    "final = {}      #diccionario para guardar los resultados finales\n",
    "mvp = -1        #variable para guardar el MVP de la ronda\n",
    "diccionario.crear(final,rondas)         #llamamos a la funcion para crear el diccionario\n",
    "ronda = 0\n",
    "for i in rondas:               #recorremos las rondas\n",
    "    ronda += 1\n",
    "    print(\"ronda nro: \",ronda)\n",
    "    for j in i:               #recorremos los jugadores de la ronda\n",
    "        puntos = i[j][\"kills\"] * 3 + i[j][\"assists\"] - i[j][\"deaths\"]         \n",
    "        if puntos > mvp:\n",
    "            mvp = puntos          #guardamos el MVP de la ronda\n",
    "            MVP = j\n",
    "        final[j][\"kills\"] += i[j][\"kills\"]\n",
    "        final[j][\"assists\"] += i[j][\"assists\"]                    \n",
    "        final[j][\"deaths\"] += i[j][\"deaths\"]\n",
    "        final[j][\"puntos\"] += puntos\n",
    "        finalordenado = diccionario.ordenarP(final)         #ordenamos el diccionario por puntos\n",
    "    final[MVP][\"MVP\"] += 1          #despues de recorrer todos los jugadores sumamos 1 al MVP de la ronda\n",
    "    finalordenado = diccionario.ordenarP(final)         #agregamos el MVP al diccionario final\n",
    "    mvp = -1               \n",
    "    diccionario.imprimir(finalordenado)       #llamamos a la funcion para imprimir el diccionario final\n",
    "\n",
    "print(\"resultados finales\")\n",
    "diccionario.imprimir(finalordenado)         #imprimimos el diccionario final\n",
    "\n",
    "\n"
   ]
  }
 ],
 "metadata": {
  "kernelspec": {
   "display_name": "venv",
   "language": "python",
   "name": "python3"
  },
  "language_info": {
   "codemirror_mode": {
    "name": "ipython",
    "version": 3
   },
   "file_extension": ".py",
   "mimetype": "text/x-python",
   "name": "python",
   "nbconvert_exporter": "python",
   "pygments_lexer": "ipython3",
   "version": "3.13.2"
  }
 },
 "nbformat": 4,
 "nbformat_minor": 2
}
